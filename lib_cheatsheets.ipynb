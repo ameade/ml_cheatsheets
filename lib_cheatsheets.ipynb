{
 "cells": [
  {
   "cell_type": "markdown",
   "metadata": {},
   "source": [
    "## Pytorch"
   ]
  },
  {
   "cell_type": "code",
   "execution_count": 52,
   "metadata": {},
   "outputs": [
    {
     "name": "stdout",
     "output_type": "stream",
     "text": [
      "torch.Size([5, 3, 2])\n",
      "tensor([[0, 1],\n",
      "        [2, 3]])\n",
      "tensor([[0, 1, 0, 1],\n",
      "        [2, 3, 2, 3]])\n"
     ]
    }
   ],
   "source": [
    "import torch\n",
    "A = torch.arange(30)\n",
    "A.shape # (30)\n",
    "B = A.reshape([5, 3, 2])\n",
    "print(B.shape)\n",
    "\n",
    "# Concatenate\n",
    "A = torch.arange(4).reshape(2, 2)\n",
    "print(A)\n",
    "C = torch.cat((A, A), 1)\n",
    "print(C)"
   ]
  },
  {
   "cell_type": "markdown",
   "metadata": {},
   "source": [
    "## Einops"
   ]
  },
  {
   "cell_type": "code",
   "execution_count": 6,
   "metadata": {},
   "outputs": [],
   "source": [
    "import einops"
   ]
  },
  {
   "cell_type": "code",
   "execution_count": 29,
   "metadata": {},
   "outputs": [
    {
     "data": {
      "text/plain": [
       "torch.Size([10, 30])"
      ]
     },
     "execution_count": 29,
     "metadata": {},
     "output_type": "execute_result"
    }
   ],
   "source": [
    "A = torch.arange(300)\n",
    "A.shape # (300)\n",
    "\n",
    "# Decompose\n",
    "B = torch.reshape(A, (2, 150)).shape # (300) -> (2, 150)\n",
    "B = einops.rearrange(A, \"(num a) -> num a\", num=2)\n",
    "B.shape # (2, 150)\n",
    "B = einops.rearrange(A, \"(a b c) -> a b c\", a=10, b=5)\n",
    "B.shape # (10, 5, 6)\n",
    "\n",
    "# Compose\n",
    "C = einops.rearrange(B, \"a b c -> a (b c)\") # (10, 5, 6) -> (10, 30)\n",
    "C.shape # (10, 30)"
   ]
  },
  {
   "cell_type": "markdown",
   "metadata": {},
   "source": [
    "## Einsum\n"
   ]
  },
  {
   "cell_type": "code",
   "execution_count": 28,
   "metadata": {},
   "outputs": [
    {
     "name": "stdout",
     "output_type": "stream",
     "text": [
      "tensor([[0, 1, 2],\n",
      "        [3, 4, 5]])\n",
      "tensor([[0, 1],\n",
      "        [2, 3],\n",
      "        [4, 5]])\n",
      "tensor([[10, 13],\n",
      "        [28, 40]])\n"
     ]
    }
   ],
   "source": [
    "# Einsum universal formula\n",
    "# z = einsum(x, y, \"a b c, b c d -> a b c\")\n",
    "# z[a, b, c] = \\sum_{d} x[a, b, c] * y[b, c, d]\n",
    "\n",
    "A = torch.arange(6).reshape(2, 3)\n",
    "B = torch.arange(6).reshape(3, 2)\n",
    "\n",
    "# dotproduct\n",
    "print(A)\n",
    "print(B)\n",
    "print(einops.einsum(A, B, \"a b, b c -> a c\"))"
   ]
  },
  {
   "cell_type": "markdown",
   "metadata": {},
   "source": [
    "## Einx"
   ]
  },
  {
   "cell_type": "markdown",
   "metadata": {},
   "source": [
    "https://github.com/fferflo/einx"
   ]
  }
 ],
 "metadata": {
  "kernelspec": {
   "display_name": ".venv",
   "language": "python",
   "name": "python3"
  },
  "language_info": {
   "codemirror_mode": {
    "name": "ipython",
    "version": 3
   },
   "file_extension": ".py",
   "mimetype": "text/x-python",
   "name": "python",
   "nbconvert_exporter": "python",
   "pygments_lexer": "ipython3",
   "version": "3.9.6"
  }
 },
 "nbformat": 4,
 "nbformat_minor": 2
}
